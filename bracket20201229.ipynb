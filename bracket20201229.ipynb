{
 "cells": [
  {
   "cell_type": "code",
   "execution_count": 2,
   "metadata": {},
   "outputs": [],
   "source": [
    "expression = \"{[(3+1)+2]+}\""
   ]
  },
  {
   "cell_type": "code",
   "execution_count": 3,
   "metadata": {},
   "outputs": [],
   "source": [
    "#extract only bracket\n",
    "bracket_list = [s for s in expression if s=='(' or s==')' or s=='[' or s==']' or s=='{' or s=='}']"
   ]
  },
  {
   "cell_type": "code",
   "execution_count": 4,
   "metadata": {},
   "outputs": [],
   "source": [
    "#allocate to L and R\n",
    "L_cnt = 0\n",
    "R_cnt = 0\n",
    "L = [] * len(bracket_list)\n",
    "R = [] * len(bracket_list)\n",
    "\n",
    "if len(bracket_list)%2==1:\n",
    "    return False"
   ]
  },
  {
   "cell_type": "code",
   "execution_count": null,
   "metadata": {},
   "outputs": [],
   "source": [
    "for c in bracket_list:\n",
    "    if c=='(' or c=='{' or c=='[':\n",
    "        if L_cnt == 0:\n",
    "            L[L_cnt]=c\n",
    "        else:\n",
    "            L[L_cnt+1]=c\n",
    "            L_cnt = L_cnt+1\n",
    "    elif c==')' or c=='}' or c==']':\n",
    "        \n",
    "       "
   ]
  }
 ],
 "metadata": {
  "kernelspec": {
   "display_name": "Python 3",
   "language": "python",
   "name": "python3"
  },
  "language_info": {
   "codemirror_mode": {
    "name": "ipython",
    "version": 3
   },
   "file_extension": ".py",
   "mimetype": "text/x-python",
   "name": "python",
   "nbconvert_exporter": "python",
   "pygments_lexer": "ipython3",
   "version": "3.7.7"
  }
 },
 "nbformat": 4,
 "nbformat_minor": 4
}
